{
 "cells": [
  {
   "cell_type": "markdown",
   "metadata": {},
   "source": [
    "# Physics 512 -  Problem Set 2\n",
    "\n",
    "Kit M. Gerodias"
   ]
  },
  {
   "cell_type": "code",
   "execution_count": 1,
   "metadata": {},
   "outputs": [],
   "source": [
    "#[ IMPORT Modules ]\n",
    "\n",
    "import numpy as np\n",
    "from matplotlib import pyplot as plt\n",
    "import pandas as pd\n",
    "from scipy import integrate\n",
    "import time"
   ]
  },
  {
   "cell_type": "markdown",
   "metadata": {},
   "source": [
    "# Problem No. 1"
   ]
  },
  {
   "cell_type": "code",
   "execution_count": 83,
   "metadata": {
    "scrolled": false
   },
   "outputs": [],
   "source": [
    "#[ Lazy Integrator ]\n",
    "\n",
    "#Code from class\n",
    "\n",
    "def lorentz(x):\n",
    "    return 1/(1+x**2)\n",
    "\n",
    "# from class\n",
    "# the variable 'count' was added from the original to count the fun calls\n",
    "def integrate_step(fun,x1,x2,tol):\n",
    "    #print('integrating from ',x1,' to ',x2)\n",
    "    #print(tol)\n",
    "    x=np.linspace(x1,x2,5)\n",
    "    y=fun(x)\n",
    "    #Simpson's rule for even points\n",
    "    area1=(x2-x1)*(y[0]+4*y[2]+y[4])/6 \n",
    "    #Simpson's rule for each points\n",
    "    area2=(x2-x1)*( y[0]+4*y[1]+2*y[2]+4*y[3]+y[4])/12\n",
    "    myerr=np.abs(area1-area2)\n",
    "    #counts the number of calls\n",
    "    count=len(x)\n",
    "    \n",
    "    if myerr<tol:\n",
    "        return area2,count\n",
    "    else:\n",
    "        xm=0.5*(x1+x2) #midpoint\n",
    "        a1,count1=integrate_step(fun,x1,xm,tol/2)\n",
    "        a2,count2=integrate_step(fun,xm,x2,tol/2)\n",
    "        total_count = count + count1 + count2\n",
    "        #print(total_count)\n",
    "        #print(a1+a2)\n",
    "        return a1+a2, total_count\n",
    "\n",
    "#ans=integrate_step(lorentz,-10,10,0.001)\n",
    "#print(ans)\n"
   ]
  },
  {
   "cell_type": "code",
   "execution_count": 86,
   "metadata": {},
   "outputs": [],
   "source": [
    "#[ Industrious Integrator ]\n",
    "#code from class\n",
    "#addition if-else statement will limit function calls\n",
    "\n",
    "counting_x=[]\n",
    "def new_integrate_step(fun,x1,x2,tol,count,y1='',y3='',y5=''):\n",
    "    #print('integrating from ',x1,' to ',x2)\n",
    "    #print(tol)\n",
    "    x=np.linspace(x1,x2,5)\n",
    "    y=fun(x)\n",
    "    #count = 0\n",
    "    if count == 0:\n",
    "        y1, y2, y3, y4, y5 = y[0], y[1], y[2], y[3], y[4]\n",
    "        count = 5 #there are five y's or funs\n",
    "    #print('fun(x) =',fun(x[1]))\n",
    "    #print('y2 = ',y[1])    \n",
    "    else:\n",
    "        y2,y4 = y[1],y[3]\n",
    "        count = 2 \n",
    "        #print(1)\n",
    "    #count = len(x)\n",
    "    #print(y1)\n",
    "    area1=(x2-x1)*(y1+4*y3+y5)/6 \n",
    "    area2=(x2-x1)*( y1+4*y2+2*y3+4*y4+y5)/12\n",
    "    myerr=np.abs(area1-area2)\n",
    "    \n",
    "    if myerr<tol:\n",
    "        return area2,count\n",
    "    else:\n",
    "        xm=0.5*(x1+x2) #midpoint\n",
    "        #print(2)\n",
    "        a1,count1=new_integrate_step(fun,x1,xm,tol/2,count,y1,y2,y3)\n",
    "        a2,count2=new_integrate_step(fun,xm,x2,tol/2,count,y3,y4,y5)\n",
    "        #note to self: if y1 through y5 were not declared, you'll get referencing error\n",
    "        total_count = count + count1 + count2    \n",
    "        #print(a1+a2)\n",
    "        return a1+a2, total_count\n",
    "\n",
    "#count = 0\n",
    "#ans=new_integrate_step(lorentz,-10,10,0.001,count)\n",
    "#print(ans)\n"
   ]
  },
  {
   "cell_type": "code",
   "execution_count": 91,
   "metadata": {},
   "outputs": [
    {
     "name": "stdout",
     "output_type": "stream",
     "text": [
      "Lorentz Function\n",
      "Lazy Area:  2.9422692844045413 , Lazy calls:  215\n",
      "Not Lazy Area:  2.9422692844045413 , Not Lazy calls:  89\n"
     ]
    }
   ],
   "source": [
    "#[ Lorentz ]\n",
    "lazyFunction = integrate_step(lorentz,-10,10,0.001)\n",
    "notlazyFunction = new_integrate_step(lorentz,-10,10,0.001,0)\n",
    "print(\"Lorentz Function\")\n",
    "print(\"Lazy Area: \", lazyFunction[0], \", Lazy calls: \", lazyFunction[1],)\n",
    "print(\"Not Lazy Area: \", notlazyFunction[0], \", Not Lazy calls: \", notlazyFunction[1],)"
   ]
  },
  {
   "cell_type": "code",
   "execution_count": 92,
   "metadata": {},
   "outputs": [
    {
     "name": "stdout",
     "output_type": "stream",
     "text": [
      "Exponential Function\n",
      "Lazy Area:  22026.465772535892 , Lazy calls:  1115\n",
      "Not Lazy Area:  22026.465772535892 , Not Lazy calls:  449\n"
     ]
    }
   ],
   "source": [
    "#[ Exponential ]\n",
    "\n",
    "lazyFunction = integrate_step(np.exp,-10,10,0.001)\n",
    "notlazyFunction = new_integrate_step(np.exp,-10,10,0.001,0)\n",
    "print(\"Exponential Function\")\n",
    "print(\"Lazy Area: \", lazyFunction[0], \", Lazy calls: \", lazyFunction[1],)\n",
    "print(\"Not Lazy Area: \", notlazyFunction[0], \", Not Lazy calls: \", notlazyFunction[1],)"
   ]
  },
  {
   "cell_type": "markdown",
   "metadata": {},
   "source": [
    "# Problem No. 2"
   ]
  },
  {
   "cell_type": "markdown",
   "metadata": {},
   "source": [
    "Chebyshev Polynomials: https://en.wikipedia.org/wiki/Chebyshev_polynomials\n",
    "        \n",
    "The Chebyshev polynomials must be shifted to 0.5 to 1. We do this by inspecting the values of $T_n$ for -1 and for 0.5. By doing this, we will end up discarding $T_1$ and $T_2$ and replace it with $T_3$ thereby changing the original mat[:,1] = x from class to mat[:,1] = 4*x - 3."
   ]
  },
  {
   "cell_type": "code",
   "execution_count": 98,
   "metadata": {},
   "outputs": [],
   "source": [
    "#[ Chebyshev Polynomial Fit ]\n",
    "#from class\n",
    "\n",
    "def cheb_fit(fun,ord):\n",
    "    x=np.linspace(0.5,1,ord+1)\n",
    "    y=fun(x)\n",
    "    mat=np.zeros([ord+1,ord+1])\n",
    "    mat[:,0]=1\n",
    "    mat[:,1]=4*x - 3\n",
    "    for i in range(1,ord):\n",
    "        mat[:,i+1]=2*(4*x - 3)*mat[:,i]-mat[:,i-1]\n",
    "    coeffs=np.linalg.inv(mat)@y\n",
    "    \n",
    "    return coeffs,y,x,mat\n",
    "\n",
    "fun=np.log2\n",
    "initial_order = 20\n",
    "coeffs,y,x,mat =cheb_fit(fun,initial_order)"
   ]
  },
  {
   "cell_type": "code",
   "execution_count": 95,
   "metadata": {},
   "outputs": [
    {
     "name": "stdout",
     "output_type": "stream",
     "text": [
      "order: 8\n"
     ]
    }
   ],
   "source": [
    "for i in range(len(coeffs)):\n",
    "    if np.abs(coeffs[i]) <= 1e-6:\n",
    "        order = i\n",
    "        print(\"order:\", order)\n",
    "        break\n",
    "        "
   ]
  },
  {
   "cell_type": "code",
   "execution_count": 99,
   "metadata": {},
   "outputs": [],
   "source": [
    "#Chebby's y values\n",
    "y_cheb = mat@coeffs"
   ]
  },
  {
   "cell_type": "markdown",
   "metadata": {},
   "source": [
    "more stable Legendre polynomial fit: https://numpy.org/doc/stable/reference/generated/numpy.polynomial.legendre.legfit.html\n",
    "would require legval"
   ]
  },
  {
   "cell_type": "code",
   "execution_count": 108,
   "metadata": {},
   "outputs": [],
   "source": [
    "#[ Legendre Polynomial Fit ]\n",
    "legcoeffs = np.polynomial.legendre.legfit(x,y,order)\n",
    "y_leg = np.polynomial.legendre.legval(x,legcoeffs)"
   ]
  },
  {
   "cell_type": "code",
   "execution_count": 112,
   "metadata": {},
   "outputs": [
    {
     "name": "stdout",
     "output_type": "stream",
     "text": [
      "Chebby's\n",
      "RMS:  9.399575457098262e-14 , Max Error:  2.5568436257117355e-13\n",
      "Legend's\n",
      "RMS:  2.8064333320721143e-08 , Max Error:  5.175274242485983e-08\n"
     ]
    }
   ],
   "source": [
    "#[ Error ]\n",
    "cheb_err = np.std(y_cheb - y)\n",
    "leg_err = np.std(y_leg - y)\n",
    "cheb_max = np.max(np.abs(y_cheb - y))\n",
    "leg_max = np.max(np.abs(y_leg-y))\n",
    "print(\"Chebby's\")\n",
    "print(\"RMS: \",cheb_err,\", Max Error: \",cheb_max)\n",
    "print(\"Legend's\")\n",
    "print(\"RMS: \",leg_err,\", Max Error: \",leg_max)"
   ]
  },
  {
   "cell_type": "markdown",
   "metadata": {},
   "source": [
    "Legendre's has greater values of RMS and Max errors."
   ]
  },
  {
   "cell_type": "code",
   "execution_count": 115,
   "metadata": {},
   "outputs": [
    {
     "data": {
      "image/png": "[encoded data removed]",
      "text/plain": [
       "<Figure size 432x288 with 1 Axes>"
      ]
     },
     "metadata": {
      "needs_background": "light"
     },
     "output_type": "display_data"
    }
   ],
   "source": [
    "#plot of function for true and different fits\n",
    "plt.plot(x,y, label = \"Actual\")\n",
    "plt.plot(x,y_cheb, label=\"Chebby's\")\n",
    "plt.plot(x,y_leg, label=\"Legend's\")\n",
    "plt.title(\"Fit of $Log_2$\", fontsize = 15, loc='center')\n",
    "plt.xlabel(\"X\",fontsize=12)\n",
    "plt.ylabel(\"Y\",fontsize=12)\n",
    "plt.legend()\n",
    "plt.show()"
   ]
  },
  {
   "cell_type": "code",
   "execution_count": 116,
   "metadata": {},
   "outputs": [
    {
     "data": {
      "image/png": "[encoded data removed]",
      "text/plain": [
       "<Figure size 432x288 with 1 Axes>"
      ]
     },
     "metadata": {
      "needs_background": "light"
     },
     "output_type": "display_data"
    }
   ],
   "source": [
    "#plot of function for true and different fits\n",
    "#plt.plot(x,y, label = \"Actual\")\n",
    "plt.plot(x,y_cheb-y, label=\"Chebby's\")\n",
    "plt.plot(x,y_leg-y, label=\"Legend's\")\n",
    "plt.title(\"Residuals of the Two $Log_2$ Fits\", fontsize = 15, loc='center')\n",
    "plt.xlabel(\"X\",fontsize=12)\n",
    "plt.ylabel(\"Y\",fontsize=12)\n",
    "plt.legend()\n",
    "plt.show()"
   ]
  },
  {
   "cell_type": "markdown",
   "metadata": {},
   "source": [
    "# Problem No. 2"
   ]
  },
  {
   "cell_type": "code",
   "execution_count": 12,
   "metadata": {},
   "outputs": [],
   "source": [
    "#input data\n",
    "df = pd.DataFrame({'elements': ['U238', 'Th234', 'Pa234', 'U234', 'Th230', 'Ra226', 'Rn222', 'Po218',\n",
    "                                'Pb214', 'Bi214', 'Po214', 'Pb210', 'Bi210', 'Po210', 'Pb206'],\n",
    "                   'half-life': [4.468e9, 24.10/365.24, 6.70/24/365.24, 2.455e5, 7.538e4, 1.6e3, 3.8235/365.24, 3.1/60/24/365.24, \n",
    "                                 26.8/60/24/365.24, 19.9/60/24/365.24, 164.3e-6/60/60/24/365.24, 22.3, 5.015, 138.376/365, None]})"
   ]
  },
  {
   "cell_type": "code",
   "execution_count": 13,
   "metadata": {},
   "outputs": [
    {
     "data": {
      "text/html": [
       "<div>\n",
       "<style scoped>\n",
       "    .dataframe tbody tr th:only-of-type {\n",
       "        vertical-align: middle;\n",
       "    }\n",
       "\n",
       "    .dataframe tbody tr th {\n",
       "        vertical-align: top;\n",
       "    }\n",
       "\n",
       "    .dataframe thead th {\n",
       "        text-align: right;\n",
       "    }\n",
       "</style>\n",
       "<table border=\"1\" class=\"dataframe\">\n",
       "  <thead>\n",
       "    <tr style=\"text-align: right;\">\n",
       "      <th></th>\n",
       "      <th>elements</th>\n",
       "      <th>half-life</th>\n",
       "    </tr>\n",
       "  </thead>\n",
       "  <tbody>\n",
       "    <tr>\n",
       "      <th>0</th>\n",
       "      <td>U238</td>\n",
       "      <td>4.468000e+09</td>\n",
       "    </tr>\n",
       "    <tr>\n",
       "      <th>1</th>\n",
       "      <td>Th234</td>\n",
       "      <td>6.598401e-02</td>\n",
       "    </tr>\n",
       "    <tr>\n",
       "      <th>2</th>\n",
       "      <td>Pa234</td>\n",
       "      <td>7.643376e-04</td>\n",
       "    </tr>\n",
       "    <tr>\n",
       "      <th>3</th>\n",
       "      <td>U234</td>\n",
       "      <td>2.455000e+05</td>\n",
       "    </tr>\n",
       "    <tr>\n",
       "      <th>4</th>\n",
       "      <td>Th230</td>\n",
       "      <td>7.538000e+04</td>\n",
       "    </tr>\n",
       "    <tr>\n",
       "      <th>5</th>\n",
       "      <td>Ra226</td>\n",
       "      <td>1.600000e+03</td>\n",
       "    </tr>\n",
       "    <tr>\n",
       "      <th>6</th>\n",
       "      <td>Rn222</td>\n",
       "      <td>1.046846e-02</td>\n",
       "    </tr>\n",
       "    <tr>\n",
       "      <th>7</th>\n",
       "      <td>Po218</td>\n",
       "      <td>5.894146e-06</td>\n",
       "    </tr>\n",
       "    <tr>\n",
       "      <th>8</th>\n",
       "      <td>Pb214</td>\n",
       "      <td>5.095584e-05</td>\n",
       "    </tr>\n",
       "    <tr>\n",
       "      <th>9</th>\n",
       "      <td>Bi214</td>\n",
       "      <td>3.783661e-05</td>\n",
       "    </tr>\n",
       "    <tr>\n",
       "      <th>10</th>\n",
       "      <td>Po214</td>\n",
       "      <td>5.206495e-12</td>\n",
       "    </tr>\n",
       "    <tr>\n",
       "      <th>11</th>\n",
       "      <td>Pb210</td>\n",
       "      <td>2.230000e+01</td>\n",
       "    </tr>\n",
       "    <tr>\n",
       "      <th>12</th>\n",
       "      <td>Bi210</td>\n",
       "      <td>5.015000e+00</td>\n",
       "    </tr>\n",
       "    <tr>\n",
       "      <th>13</th>\n",
       "      <td>Po210</td>\n",
       "      <td>3.791123e-01</td>\n",
       "    </tr>\n",
       "    <tr>\n",
       "      <th>14</th>\n",
       "      <td>Pb206</td>\n",
       "      <td>NaN</td>\n",
       "    </tr>\n",
       "  </tbody>\n",
       "</table>\n",
       "</div>"
      ],
      "text/plain": [
       "   elements     half-life\n",
       "0      U238  4.468000e+09\n",
       "1     Th234  6.598401e-02\n",
       "2     Pa234  7.643376e-04\n",
       "3      U234  2.455000e+05\n",
       "4     Th230  7.538000e+04\n",
       "5     Ra226  1.600000e+03\n",
       "6     Rn222  1.046846e-02\n",
       "7     Po218  5.894146e-06\n",
       "8     Pb214  5.095584e-05\n",
       "9     Bi214  3.783661e-05\n",
       "10    Po214  5.206495e-12\n",
       "11    Pb210  2.230000e+01\n",
       "12    Bi210  5.015000e+00\n",
       "13    Po210  3.791123e-01\n",
       "14    Pb206           NaN"
      ]
     },
     "execution_count": 13,
     "metadata": {},
     "output_type": "execute_result"
    }
   ],
   "source": [
    "df"
   ]
  },
  {
   "cell_type": "code",
   "execution_count": 40,
   "metadata": {},
   "outputs": [
    {
     "name": "stdout",
     "output_type": "stream",
     "text": [
      "took  225920  evaluations and  4.4072105884552  seconds to solve with RK4.\n",
      "took  72  evaluations and  0.29047322273254395  seconds to solve implicitly\n",
      "final values were  0.3678794411714375  and  0.36788037058788153  with truth  0.36787944117144233\n"
     ]
    }
   ],
   "source": [
    "#code from class \n",
    "def fun(x,y,half_life=[1,1e-5]):\n",
    "    #let's do a 2-state radioactive decay\n",
    "    dydx=np.zeros(len(half_life)+1)\n",
    "    dydx[0]=-y[0]/half_life[0]\n",
    "    dydx[1]=y[0]/half_life[0]-y[1]/half_life[1]\n",
    "    dydx[2]=y[1]/half_life[1]\n",
    "    return dydx\n",
    "\n",
    "\n",
    "y0=np.asarray([1,0,0]) \n",
    "x0=0\n",
    "x1=1\n",
    "t1=time.time();\n",
    "ans_rk4=integrate.solve_ivp(fun,[x0,x1],y0);\n",
    "t2=time.time();\n",
    "print('took ',ans_rk4.nfev,' evaluations and ',t2-t1,' seconds to solve with RK4.')\n",
    "t1=time.time()\n",
    "ans_stiff=integrate.solve_ivp(fun,[x0,x1],y0,method='Radau')\n",
    "t2=time.time()\n",
    "print('took ',ans_stiff.nfev,' evaluations and ',t2-t1,' seconds to solve implicitly')\n",
    "print('final values were ',ans_rk4.y[0,-1],' and ',ans_stiff.y[0,-1],' with truth ',np.exp(-1*(x1-x0)))"
   ]
  },
  {
   "cell_type": "markdown",
   "metadata": {},
   "source": [
    "Should use the ans_stiff or from its argument, method = 'Radau'"
   ]
  },
  {
   "cell_type": "markdown",
   "metadata": {},
   "source": [
    "Bateman Equation: https://en.wikipedia.org/wiki/Bateman_equation#:~:text=In%20nuclear%20physics%2C%20the%20Bateman,by%20Harry%20Bateman%20in%201910."
   ]
  },
  {
   "cell_type": "code",
   "execution_count": 62,
   "metadata": {},
   "outputs": [
    {
     "name": "stdout",
     "output_type": "stream",
     "text": [
      "took  107  evaluations and  0.11414670944213867  seconds to solve implicitly\n",
      "final values were  0.3678794411714375  and  0.3678811962826214  with truth  0.0\n",
      "final value is  0.3678811962826214\n"
     ]
    }
   ],
   "source": [
    "half_lives = np.array(df['half-life'].iloc[:14])\n",
    "\n",
    "def fun(x,y,half_life=half_lives):\n",
    "    #Bateman equation\n",
    "    dydx=np.zeros(len(half_life)+1)\n",
    "    \n",
    "    dydx[0]=-y[0]/half_life[0]\n",
    "    for i in range (1, len(half_life)):\n",
    "        dydx[i]=y[i-1]/half_life[i-1]-y[i]/half_life[i]\n",
    "    dydx[-1]=y[-2]/half_life[-2]\n",
    "    return dydx\n",
    "\n",
    "\n",
    "y0=np.zeros(len(half_lives)+1)\n",
    "y0[0]=1\n",
    "x0=0\n",
    "x1=df['half-life'][0]\n",
    "#t1=time.time();\n",
    "#ans_rk4=integrate.solve_ivp(fun,[x0,x1],y0);\n",
    "#t2=time.time();\n",
    "#print('took ',ans_rk4.nfev,' evaluations and ',t2-t1,' seconds to solve with RK4.')\n",
    "t1=time.time()\n",
    "ans_stiff=integrate.solve_ivp(fun,[x0,x1],y0,method='Radau')\n",
    "t2=time.time()\n",
    "print('took ',ans_stiff.nfev,' evaluations and ',t2-t1,' seconds to solve implicitly')\n",
    "#print('final values were ',ans_rk4.y[0,-1],' and ',ans_stiff.y[0,-1],' with truth ',np.exp(-1*(x1-x0)))\n",
    "print('final value is ', ans_stiff.y[0,-1])"
   ]
  },
  {
   "cell_type": "code",
   "execution_count": 77,
   "metadata": {},
   "outputs": [
    {
     "name": "stderr",
     "output_type": "stream",
     "text": [
      "No handles with labels found to put in legend.\n"
     ]
    },
    {
     "data": {
      "image/png": "[encoded data removed]",
      "text/plain": [
       "<Figure size 432x288 with 1 Axes>"
      ]
     },
     "metadata": {
      "needs_background": "light"
     },
     "output_type": "display_data"
    }
   ],
   "source": [
    "#Ratio of Pb206/U238\n",
    "#plotting\n",
    "x=ans_stiff.t\n",
    "y=ans_stiff.y[-1,:]/ans_stiff.y[0,:]\n",
    "plt.plot(x,y, )\n",
    "plt.title(\" Plot of $^{206}Pb$ / $^{238}U$\", fontsize = 15, loc='center')\n",
    "plt.xlabel(\"time (years)\",fontsize=12)\n",
    "plt.ylabel(\"ratio\",fontsize=12)\n",
    "plt.show()"
   ]
  },
  {
   "cell_type": "code",
   "execution_count": 102,
   "metadata": {},
   "outputs": [
    {
     "data": {
      "image/png": "[encoded data removed]",
      "text/plain": [
       "<Figure size 432x288 with 1 Axes>"
      ]
     },
     "metadata": {
      "needs_background": "light"
     },
     "output_type": "display_data"
    }
   ],
   "source": [
    "#Ratio of Th230/U234\n",
    "#plotting\n",
    "x=ans_stiff.t[1:]\n",
    "y=ans_stiff.y[4,1:]/ans_stiff.y[3,1:]\n",
    "plt.plot(x,y, )\n",
    "plt.title(\" Plot of $^{230}Th$ / $^{234}U$\", fontsize = 15, loc='center')\n",
    "plt.xlabel(\"time (years)\",fontsize=12)\n",
    "plt.ylabel(\"ratio\",fontsize=12)\n",
    "plt.xscale(\"log\")\n",
    "plt.show()"
   ]
  },
  {
   "cell_type": "code",
   "execution_count": 93,
   "metadata": {
    "scrolled": true
   },
   "outputs": [
    {
     "data": {
      "text/plain": [
       "array([3.63226276e-10, 4.13493459e-09, 4.18465873e-08, 4.17542394e-07,\n",
       "       4.03596298e-06, 2.93235120e-05, 4.84816026e-05, 5.44629736e-05,\n",
       "       5.49090372e-05, 5.48867152e-05, 5.47346078e-05, 5.35807634e-05,\n",
       "       4.32987658e-05, 2.42964719e-05, 2.02148157e-05])"
      ]
     },
     "execution_count": 93,
     "metadata": {},
     "output_type": "execute_result"
    }
   ],
   "source": [
    "ans_stiff.y[3,1:]"
   ]
  },
  {
   "cell_type": "code",
   "execution_count": 98,
   "metadata": {},
   "outputs": [
    {
     "data": {
      "text/plain": [
       "array([1.68566250e+00, 1.85422875e+01, 1.87108538e+02, 1.87277104e+03,\n",
       "       1.87293961e+04, 1.87295646e+05, 5.25719962e+05, 1.17855516e+06,\n",
       "       2.29076794e+06, 5.03705069e+06, 1.74890884e+07, 1.12686976e+08,\n",
       "       1.06466585e+09, 3.64626612e+09, 4.46800000e+09])"
      ]
     },
     "execution_count": 98,
     "metadata": {},
     "output_type": "execute_result"
    }
   ],
   "source": [
    "x[1:]"
   ]
  }
 ],
 "metadata": {
  "kernelspec": {
   "display_name": "Python 3",
   "language": "python",
   "name": "python3"
  },
  "language_info": {
   "codemirror_mode": {
    "name": "ipython",
    "version": 3
   },
   "file_extension": ".py",
   "mimetype": "text/x-python",
   "name": "python",
   "nbconvert_exporter": "python",
   "pygments_lexer": "ipython3",
   "version": "3.7.3"
  }
 },
 "nbformat": 4,
 "nbformat_minor": 2
}
