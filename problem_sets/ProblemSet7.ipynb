{
 "cells": [
  {
   "cell_type": "markdown",
   "metadata": {},
   "source": [
    "# Physics 512 -  Problem Set 7\n",
    "\n",
    "Kit M. Gerodias"
   ]
  },
  {
   "cell_type": "code",
   "execution_count": null,
   "metadata": {},
   "outputs": [],
   "source": [
    "#[ Modules ]"
   ]
  },
  {
   "cell_type": "markdown",
   "metadata": {},
   "source": [
    "# Problem No. 1"
   ]
  },
  {
   "cell_type": "markdown",
   "metadata": {},
   "source": [
    "Given the following equations:\\\n",
    "$$ \\frac{f(t+dt,x) - f(t-dt,x)}{2 dt} = -v \\frac{f(t,x+dx) - f(t,x-dx)}{2dx}$$\\\n",
    "and \n",
    "$$ f(t,x) = {\\xi}^{t} e^{jkx_i}.$$\n",
    "Note: I am using ${j}$ as the notation for imaginary number.\\\n",
    "\\\n",
    "Discretizing the equations above:\n",
    "$$ f_i^{n+1} - f_i^{n-1} = \\alpha \\biggl[f_{i+1}^n - f_{i-1}^n \\biggr]$$\n",
    "and \n",
    "$$ f_i^n = \\xi^n e^{jkx_i}$$\n",
    "respectively, where $ \\alpha = -v \\frac{dt}{dx}$.\n",
    "\n",
    "Substituting the second equation to the first,\n",
    "$$ \\xi^{n+1} e^{jkx_i} - \\xi^{n-1} e^{jkx_i} = \\alpha \\biggl[ \\xi^n e^{jkx_{i+1}} - \\xi^n e^{jkx_{i-1}} \\biggr] $$\n",
    "with $x_{i+1} = x_i + h$ and $x_{i-1} = x_i -h$, and dividing both sides by $\\xi^n$ we get,\n",
    "$$ \\xi e^{jkx_i} - \\xi^{-1} e^{jkx_i} = \\alpha \\biggl[ e^{jk(x_i+h)} - e^{jk(x_i-h)} \\biggr] $$\n",
    "and finally, dividing both sides by $e^{jkx_i}$,\n",
    "$$ \\xi - \\xi^{-1} = \\alpha \\biggl[e^{jkh} - e^{-jkh} \\biggr] =j 2 \\alpha \\sin{kh} $$.\n",
    "\n",
    "Since the range of sine is $[-1,1]$, the RHS range must be $[-j2\\alpha,j2\\alpha]$. When CFL condition $\\lvert \\alpha \\rvert \\leq 1$ holds, RHS range becomes $ [-2j, 2j]$. Thus, equating the range to the LHS, we get $ \\xi - \\xi^{-1} = \\pm 2j $. And solving for this quadratic equation results to $ \\lvert \\xi \\rvert = 1$.\n"
   ]
  },
  {
   "cell_type": "markdown",
   "metadata": {},
   "source": [
    "Energy is preserved when time reversability can be demonstrated. Time reversability is when forward step is equal to backward step. In this case, $ f_i^{n'+1}$ when $n' = n-1$ must be equal to $f_i^{n'-1}$ when $n'= n+1$.\\\n",
    "Thus, for $ f_i^{n'+1}$ when $n' = n-1$,\\\n",
    "$ f_{i}^{n'+1}  = f_{i}^{n'-1} + \\alpha \\biggl[ f_{i+1}^{n'} - f_{i-1}^{n'} \\biggr] $\\\n",
    "$ f_i^n = f_{i}^{n-2} + \\alpha \\biggl[ f_{i+1}^{n-1} - f_{i-1}^{n-1} \\biggr] $\\\n",
    "$\\xi^n e^{jkx_i} = \\xi^{n-2}e^{jkx_i} + \\alpha \\biggl[ \\xi^{n-1} e^{jk(x_i+h)} - \\xi^{n-1} e^{jk(x_i-h)} \\biggr]$\\\n",
    "$1 = \\xi^{-2} + \\alpha \\xi^{-1} \\biggl[e^{jkh} - e^{-jkh} \\biggr]$\\\n",
    "$1 = \\xi^{-2} + j 2 \\alpha \\xi^{-1} \\sin{kh}$.\\\n",
    "Similarly, for $f_i^{n'-1}$ when $n'= n+1$,\\\n",
    "$ -f_{i}^{n'-1}  = - f_{i}^{n'+1} + \\alpha \\biggl[ f_{i+1}^{n'} - f_{i-1}^{n'} \\biggr] $\\\n",
    "$ -f_{i}^{n}  = - f_{i}^{n+2} + \\alpha \\biggl[ f_{i+1}^{n+1} - f_{i-1}^{n+1} \\biggr] $\\\n",
    "$-\\xi^n e^{jkx_i} = -\\xi^{n+2}e^{jkx_i} + \\alpha \\biggl[ \\xi^{n+1} e^{jk(x_i+h)} - \\xi^{n+1} e^{jk(x_i-h)} \\biggr]$\\\n",
    "$-1 = -\\xi^{2} + \\alpha \\xi \\biggl[e^{jkh} - e^{-jkh} \\biggr]$\\\n",
    "$-1 = -\\xi^{2} + j 2 \\alpha \\xi \\sin{kh}$.\\\n",
    "Thus, the two equations are reduced to,\n",
    "$$1 = \\xi^{-2} + j 2 \\alpha \\xi^{-1} \\sin{kh}$$\n",
    "$$1 = \\xi^{2} - j 2 \\alpha \\xi \\sin{kh}$$\n",
    "\n",
    "The two preceding equations are equivalent when $ \\lvert \\xi \\rvert = 1$ or $ \\xi = \\pm 1$, the value for $\\xi$ in which CFL condition holds. Therefore, since forward step is equal to backward step, energy is preserved."
   ]
  },
  {
   "cell_type": "markdown",
   "metadata": {},
   "source": [
    "\n",
    "Sources:\\\n",
    "https://people.maths.ox.ac.uk/trefethen/4all.pdf \\\n",
    "http://www.physics.drexel.edu/~steve/Courses/Comp_Phys/Integrators/leapfrog/"
   ]
  },
  {
   "cell_type": "markdown",
   "metadata": {},
   "source": [
    "# Problem No. 2"
   ]
  }
 ],
 "metadata": {
  "kernelspec": {
   "display_name": "Python 3",
   "language": "python",
   "name": "python3"
  },
  "language_info": {
   "codemirror_mode": {
    "name": "ipython",
    "version": 3
   },
   "file_extension": ".py",
   "mimetype": "text/x-python",
   "name": "python",
   "nbconvert_exporter": "python",
   "pygments_lexer": "ipython3",
   "version": "3.7.3"
  }
 },
 "nbformat": 4,
 "nbformat_minor": 2
}
